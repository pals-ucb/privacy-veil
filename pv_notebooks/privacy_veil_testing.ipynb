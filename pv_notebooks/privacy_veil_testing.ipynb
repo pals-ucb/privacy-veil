{
 "cells": [
  {
   "cell_type": "code",
   "execution_count": null,
   "id": "ed986270",
   "metadata": {},
   "outputs": [],
   "source": [
    "import pandas as pd\n",
    "import requests\n",
    "import time"
   ]
  },
  {
   "cell_type": "code",
   "execution_count": null,
   "id": "9417971a",
   "metadata": {},
   "outputs": [],
   "source": [
    "host=\"34.216.243.129\""
   ]
  },
  {
   "cell_type": "code",
   "execution_count": null,
   "id": "eadb6bc9",
   "metadata": {},
   "outputs": [],
   "source": [
    "port=\"5000\""
   ]
  },
  {
   "cell_type": "code",
   "execution_count": null,
   "id": "a49190f9",
   "metadata": {},
   "outputs": [],
   "source": [
    "url=f\"http://{host}:{port}/privacy-veil/api/alpaca-query-single\""
   ]
  },
  {
   "cell_type": "code",
   "execution_count": null,
   "id": "1ce20ff0",
   "metadata": {},
   "outputs": [],
   "source": [
    "data={\"input\":\"Hello in German?\"}\n",
    "resp = requests.get(url, json=data)\n",
    "print(resp.text)"
   ]
  },
  {
   "cell_type": "code",
   "execution_count": null,
   "id": "a8c59014",
   "metadata": {},
   "outputs": [],
   "source": [
    "df = pd.read_csv('train.csv')"
   ]
  },
  {
   "cell_type": "code",
   "execution_count": null,
   "id": "5b5f2d57",
   "metadata": {},
   "outputs": [],
   "source": [
    "ins = df['Instructions']\n",
    "inp = df['Input']\n",
    "out = df['Output']"
   ]
  },
  {
   "cell_type": "code",
   "execution_count": null,
   "id": "8c8e86da",
   "metadata": {},
   "outputs": [],
   "source": [
    "\n",
    "count = 10\n",
    "num = 0\n",
    "for instruction,input_str in zip(ins,inp):\n",
    "    data={\"input\":instruction+input_str}\n",
    "    resp = requests.get(url, json=data)\n",
    "    time.sleep(1)\n",
    "    print(f'Status: {resp.status_code}')\n",
    "    print(f'Response: {resp.text}')\n",
    "    time.sleep(1)\n",
    "    num += 1\n",
    "    if num > count:\n",
    "        break"
   ]
  }
 ],
 "metadata": {
  "kernelspec": {
   "display_name": "Python 3 (ipykernel)",
   "language": "python",
   "name": "python3"
  },
  "language_info": {
   "codemirror_mode": {
    "name": "ipython",
    "version": 3
   },
   "file_extension": ".py",
   "mimetype": "text/x-python",
   "name": "python",
   "nbconvert_exporter": "python",
   "pygments_lexer": "ipython3",
   "version": "3.11.5"
  }
 },
 "nbformat": 4,
 "nbformat_minor": 5
}
