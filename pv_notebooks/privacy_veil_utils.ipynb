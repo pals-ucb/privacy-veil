{
 "cells": [
  {
   "cell_type": "code",
   "execution_count": 1,
   "id": "680e84a0",
   "metadata": {},
   "outputs": [],
   "source": [
    "import json"
   ]
  },
  {
   "cell_type": "code",
   "execution_count": 2,
   "id": "e0b01279",
   "metadata": {},
   "outputs": [],
   "source": [
    "def clean_response(input_text, response):\n",
    "    found = response.find(input_text)\n",
    "    if found:\n",
    "        response = response[found+len(input_text):]\n",
    "    resonse = response.replace('\\\\n', '\\n')\n",
    "    return response"
   ]
  },
  {
   "cell_type": "code",
   "execution_count": null,
   "id": "6bc66e9e",
   "metadata": {},
   "outputs": [],
   "source": []
  }
 ],
 "metadata": {
  "kernelspec": {
   "display_name": "Python 3 (ipykernel)",
   "language": "python",
   "name": "python3"
  },
  "language_info": {
   "codemirror_mode": {
    "name": "ipython",
    "version": 3
   },
   "file_extension": ".py",
   "mimetype": "text/x-python",
   "name": "python",
   "nbconvert_exporter": "python",
   "pygments_lexer": "ipython3",
   "version": "3.11.5"
  }
 },
 "nbformat": 4,
 "nbformat_minor": 5
}
