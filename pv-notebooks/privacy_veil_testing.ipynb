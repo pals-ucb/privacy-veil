{
 "cells": [
  {
   "cell_type": "code",
   "execution_count": 1,
   "id": "04bc8c0c",
   "metadata": {},
   "outputs": [],
   "source": [
    "import requests"
   ]
  },
  {
   "cell_type": "code",
   "execution_count": 2,
   "id": "611ae216",
   "metadata": {},
   "outputs": [],
   "source": [
    "host=\"127.0.0.1\""
   ]
  },
  {
   "cell_type": "code",
   "execution_count": 3,
   "id": "7e41cf32",
   "metadata": {},
   "outputs": [],
   "source": [
    "port=\"8080\""
   ]
  },
  {
   "cell_type": "code",
   "execution_count": 4,
   "id": "404466db",
   "metadata": {},
   "outputs": [],
   "source": [
    "url=f\"http://{host}:{port}/privacy-veil/api/alpaca-query-single\""
   ]
  },
  {
   "cell_type": "code",
   "execution_count": null,
   "id": "9dbb1823",
   "metadata": {},
   "outputs": [],
   "source": [
    "input_str='''\n",
    "The following is an INSTRUCTION for a task. The paired INPUT below provides additional context for the task. Write a response to complete the task.\n",
    "\n",
    "### INSTRUCTION:\n",
    "Find all Credit Card transactions made by the given user. The First Name and the Last Name of the user, Date of Birth, Street Address, City, State, Zipcode are given in the INPUT context. Please provide the Credit Card number, and all the known Transaction Dates, and the Amount charged for each Transaction. If you do not have some of the information then output NA for those fields.\n",
    "\n",
    "### INPUT:\n",
    "First Name: Bryce\n",
    "Last Name: Joseph\n",
    "Date of Birth: 1945-05-05\n",
    "Street Address: 148 Baker Field\n",
    "City: Chester Heights\n",
    "State: PA\n",
    "Zipcode: 19017\n",
    "'''"
   ]
  },
  {
   "cell_type": "code",
   "execution_count": null,
   "id": "4d449328",
   "metadata": {},
   "outputs": [],
   "source": [
    "data={\"input\":input_str}"
   ]
  },
  {
   "cell_type": "code",
   "execution_count": null,
   "id": "23a7d4b2",
   "metadata": {},
   "outputs": [],
   "source": [
    "resp = requests.get(url, json=data)\n",
    "resp"
   ]
  }
 ],
 "metadata": {
  "kernelspec": {
   "display_name": "Python 3 (ipykernel)",
   "language": "python",
   "name": "python3"
  },
  "language_info": {
   "codemirror_mode": {
    "name": "ipython",
    "version": 3
   },
   "file_extension": ".py",
   "mimetype": "text/x-python",
   "name": "python",
   "nbconvert_exporter": "python",
   "pygments_lexer": "ipython3",
   "version": "3.11.5"
  }
 },
 "nbformat": 4,
 "nbformat_minor": 5
}
